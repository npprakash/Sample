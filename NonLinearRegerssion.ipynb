{
  "nbformat": 4,
  "nbformat_minor": 0,
  "metadata": {
    "colab": {
      "name": "NonLinearRegerssion.ipynb",
      "provenance": [],
      "authorship_tag": "ABX9TyO2kBbpoEPq81ZZvhnQuQB2"
    },
    "kernelspec": {
      "name": "python3",
      "display_name": "Python 3"
    }
  },
  "cells": [
    {
      "cell_type": "code",
      "metadata": {
        "id": "TLb5RZ_0k2a4",
        "colab_type": "code",
        "colab": {
          "base_uri": "https://localhost:8080/",
          "height": 34
        },
        "outputId": "6a7e208f-3dac-496c-b318-ca1f8590f182"
      },
      "source": [
        "%tensorflow_version 1.x\n",
        "import numpy as np\n",
        "import matplotlib.pylab as plt"
      ],
      "execution_count": 1,
      "outputs": [
        {
          "output_type": "stream",
          "text": [
            "TensorFlow 1.x selected.\n"
          ],
          "name": "stdout"
        }
      ]
    },
    {
      "cell_type": "code",
      "metadata": {
        "id": "oYBm47x1k_hy",
        "colab_type": "code",
        "colab": {}
      },
      "source": [
        "dataX = np.linspace(-1.0, 1, 300)[:, np.newaxis]"
      ],
      "execution_count": 0,
      "outputs": []
    },
    {
      "cell_type": "code",
      "metadata": {
        "id": "r3uEydYVlSXo",
        "colab_type": "code",
        "colab": {}
      },
      "source": [
        "noise = np.random.normal(0, 0.02, dataX.shape)\n",
        "dataY = np.square(dataX) + noise "
      ],
      "execution_count": 0,
      "outputs": []
    },
    {
      "cell_type": "code",
      "metadata": {
        "id": "NRRITRc7s2nj",
        "colab_type": "code",
        "colab": {}
      },
      "source": [
        "import tensorflow as tf"
      ],
      "execution_count": 0,
      "outputs": []
    },
    {
      "cell_type": "code",
      "metadata": {
        "id": "ktVFfIrKljq4",
        "colab_type": "code",
        "colab": {}
      },
      "source": [
        "x = tf.placeholder(tf.float32,[None,1])\n",
        "y = tf.placeholder(tf.float32,[None,1])"
      ],
      "execution_count": 0,
      "outputs": []
    },
    {
      "cell_type": "code",
      "metadata": {
        "id": "D1Aj_IWQtG9b",
        "colab_type": "code",
        "colab": {}
      },
      "source": [
        "L1Weights = tf.Variable(tf.random_normal([1,10]))\n",
        "L1bias = tf.Variable(tf.zeros([1,10]))\n",
        "L1_Wx_plus_bias = tf.matmul(x,L1Weights) + L1bias\n",
        "L1 = tf.nn.tanh(L1_Wx_plus_bias)"
      ],
      "execution_count": 0,
      "outputs": []
    },
    {
      "cell_type": "code",
      "metadata": {
        "id": "tSlhspu-tphd",
        "colab_type": "code",
        "colab": {}
      },
      "source": [
        "L2Weights = tf.Variable(tf.random_normal([10,1]))\n",
        "L2bias = tf.Variable(tf.zeros([1,1]))\n",
        "L2_Wx_plus_bias = tf.matmul(L1,L2Weights) + L2bias\n",
        "prediction = tf.nn.tanh(L2_Wx_plus_bias)\n"
      ],
      "execution_count": 0,
      "outputs": []
    },
    {
      "cell_type": "code",
      "metadata": {
        "id": "H8ONNGAJs-yR",
        "colab_type": "code",
        "colab": {}
      },
      "source": [
        "loss = tf.reduce_mean(tf.square(y-prediction))"
      ],
      "execution_count": 0,
      "outputs": []
    },
    {
      "cell_type": "code",
      "metadata": {
        "id": "xGJPOV2VuZrM",
        "colab_type": "code",
        "colab": {}
      },
      "source": [
        "train_step = tf.train.GradientDescentOptimizer(0.1).minimize(loss)"
      ],
      "execution_count": 0,
      "outputs": []
    },
    {
      "cell_type": "code",
      "metadata": {
        "id": "Hp0n2MdBugMy",
        "colab_type": "code",
        "colab": {}
      },
      "source": [
        "with tf.Session() as sess:\n",
        "    sess.run(tf.global_variables_initializer())\n",
        "    for _ in range(2000):\n",
        "        sess.run(train_step,feed_dict={x:dataX,y:dataY})\n",
        "    prediction_value = sess.run(prediction,feed_dict={x:dataX})"
      ],
      "execution_count": 0,
      "outputs": []
    },
    {
      "cell_type": "code",
      "metadata": {
        "id": "er_MmIuTuw2t",
        "colab_type": "code",
        "colab": {
          "base_uri": "https://localhost:8080/",
          "height": 265
        },
        "outputId": "f3c10cde-0c63-4434-e4bd-9211f544c4b7"
      },
      "source": [
        "plt.figure()\n",
        "plt.scatter(dataX,dataY)\n",
        "plt.plot(dataX,prediction_value,'r-',lw=5)\n",
        "plt.show()"
      ],
      "execution_count": 20,
      "outputs": [
        {
          "output_type": "display_data",
          "data": {
            "image/png": "[encoded data removed]",
            "text/plain": [
              "<Figure size 432x288 with 1 Axes>"
            ]
          },
          "metadata": {
            "tags": []
          }
        }
      ]
    }
  ]
}