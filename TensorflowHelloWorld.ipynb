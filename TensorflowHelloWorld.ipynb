{
  "nbformat": 4,
  "nbformat_minor": 0,
  "metadata": {
    "colab": {
      "name": "TensorflowHelloWorld.ipynb",
      "provenance": [],
      "collapsed_sections": [],
      "authorship_tag": "ABX9TyNLC91Ttcw7xEoSShp1lwLJ",
      "include_colab_link": true
    },
    "kernelspec": {
      "name": "python3",
      "display_name": "Python 3"
    }
  },
  "cells": [
    {
      "cell_type": "markdown",
      "metadata": {
        "id": "view-in-github",
        "colab_type": "text"
      },
      "source": [
        "<a href=\"https://colab.research.google.com/github/npprakash/TensorFlow/blob/master/TensorflowHelloWorld.ipynb\" target=\"_parent\"><img src=\"https://colab.research.google.com/assets/colab-badge.svg\" alt=\"Open In Colab\"/></a>"
      ]
    },
    {
      "cell_type": "markdown",
      "metadata": {
        "id": "pdGvZaJFvHyj",
        "colab_type": "text"
      },
      "source": [
        "https://medium.com/ai-india/hello-world-tensorflow-6ce3f5bcbb6b"
      ]
    },
    {
      "cell_type": "code",
      "metadata": {
        "id": "kNLakwA4j9v6",
        "colab_type": "code",
        "outputId": "508bbe85-ec08-4366-bf92-b24faf538773",
        "colab": {
          "base_uri": "https://localhost:8080/",
          "height": 34
        }
      },
      "source": [
        "%tensorflow_version 1.x"
      ],
      "execution_count": 0,
      "outputs": [
        {
          "output_type": "stream",
          "text": [
            "TensorFlow 1.x selected.\n"
          ],
          "name": "stdout"
        }
      ]
    },
    {
      "cell_type": "code",
      "metadata": {
        "id": "eZR-P8_0hw1l",
        "colab_type": "code",
        "colab": {}
      },
      "source": [
        "import tensorflow as tf"
      ],
      "execution_count": 0,
      "outputs": []
    },
    {
      "cell_type": "code",
      "metadata": {
        "id": "HksO2Tsvjjjk",
        "colab_type": "code",
        "outputId": "f8ea1a9c-1a8d-44f3-d2e8-f97147fa70e1",
        "colab": {
          "base_uri": "https://localhost:8080/",
          "height": 34
        }
      },
      "source": [
        "print(tf.__version__)"
      ],
      "execution_count": 0,
      "outputs": [
        {
          "output_type": "stream",
          "text": [
            "1.15.2\n"
          ],
          "name": "stdout"
        }
      ]
    },
    {
      "cell_type": "code",
      "metadata": {
        "id": "gqq6xtn0iA1q",
        "colab_type": "code",
        "colab": {}
      },
      "source": [
        "a = tf.constant(1)\n",
        "b = tf.constant(2)\n",
        "A = tf.constant(1234) "
      ],
      "execution_count": 0,
      "outputs": []
    },
    {
      "cell_type": "code",
      "metadata": {
        "id": "p9MHs9A6ijdZ",
        "colab_type": "code",
        "colab": {}
      },
      "source": [
        "B = tf.constant([123,456,789]) \n",
        "C = tf.constant([ [123,456,789], [222,333,444] ])"
      ],
      "execution_count": 0,
      "outputs": []
    },
    {
      "cell_type": "code",
      "metadata": {
        "id": "XnesyPTIirqg",
        "colab_type": "code",
        "outputId": "d9999248-8b7a-47be-fbed-5423c5419f0c",
        "colab": {
          "base_uri": "https://localhost:8080/",
          "height": 34
        }
      },
      "source": [
        "c = a + b\n",
        "print(c)"
      ],
      "execution_count": 0,
      "outputs": [
        {
          "output_type": "stream",
          "text": [
            "Tensor(\"add:0\", shape=(), dtype=int32)\n"
          ],
          "name": "stdout"
        }
      ]
    },
    {
      "cell_type": "code",
      "metadata": {
        "id": "IKKVwUYjjBp_",
        "colab_type": "code",
        "outputId": "c849ef9a-a804-4020-dbba-cb75fa678fe1",
        "colab": {
          "base_uri": "https://localhost:8080/",
          "height": 34
        }
      },
      "source": [
        "hello_constant = tf.constant('Hello Prakash!')\n",
        "print(hello_constant)"
      ],
      "execution_count": 0,
      "outputs": [
        {
          "output_type": "stream",
          "text": [
            "Tensor(\"Const_5:0\", shape=(), dtype=string)\n"
          ],
          "name": "stdout"
        }
      ]
    },
    {
      "cell_type": "code",
      "metadata": {
        "id": "MTKngxXnjK8h",
        "colab_type": "code",
        "outputId": "b5a522ef-4a2e-4fbd-d123-7ac4fd5bb82f",
        "colab": {
          "base_uri": "https://localhost:8080/",
          "height": 34
        }
      },
      "source": [
        "with tf.Session() as sess:\n",
        "    # Run the tf.constant operation in the session\n",
        "    output = sess.run(hello_constant)\n",
        "    print(output)"
      ],
      "execution_count": 0,
      "outputs": [
        {
          "output_type": "stream",
          "text": [
            "b'Hello Prakash!'\n"
          ],
          "name": "stdout"
        }
      ]
    },
    {
      "cell_type": "code",
      "metadata": {
        "id": "lf9va1v4lWEa",
        "colab_type": "code",
        "outputId": "18d50afe-ccdf-4b21-fa25-3702f6480e31",
        "colab": {
          "base_uri": "https://localhost:8080/",
          "height": 34
        }
      },
      "source": [
        "x = tf.placeholder(tf.string)\n",
        "\n",
        "with tf.Session() as sess:\n",
        "    output = sess.run(x, feed_dict={x: 'Hello World'})\n",
        "    print(output)"
      ],
      "execution_count": 0,
      "outputs": [
        {
          "output_type": "stream",
          "text": [
            "Hello World\n"
          ],
          "name": "stdout"
        }
      ]
    },
    {
      "cell_type": "code",
      "metadata": {
        "id": "WqLY1kLmltWS",
        "colab_type": "code",
        "outputId": "ba518d39-6f8e-4ce7-98b8-b71a886027f5",
        "colab": {
          "base_uri": "https://localhost:8080/",
          "height": 34
        }
      },
      "source": [
        "x = tf.placeholder(tf.string)\n",
        "y = tf.placeholder(tf.int32)\n",
        "z = tf.placeholder(tf.float32)\n",
        "with tf.Session() as sess:\n",
        "    output = sess.run(x, feed_dict={x: 'Test String', y: 123, z: 45.67})\n",
        "    print(output)"
      ],
      "execution_count": 0,
      "outputs": [
        {
          "output_type": "stream",
          "text": [
            "Test String\n"
          ],
          "name": "stdout"
        }
      ]
    },
    {
      "cell_type": "code",
      "metadata": {
        "id": "ByTsj2nThU84",
        "colab_type": "code",
        "outputId": "386f27fc-970e-4b77-f292-ecae0bb3ed11",
        "colab": {
          "base_uri": "https://localhost:8080/",
          "height": 118
        }
      },
      "source": [
        "import pandas as pd\n",
        "data = pd.read_csv(\"https://goo.gl/PQXxZ8\")\n",
        "print(data.head())\n",
        "size_data = data[\"Size\"].values\n",
        "price_data = data[\"Price\"].values"
      ],
      "execution_count": 0,
      "outputs": [
        {
          "output_type": "stream",
          "text": [
            "   Size     Price\n",
            "0  2371  795000.0\n",
            "1  2818  399000.0\n",
            "2  3032  545000.0\n",
            "3  3540  909000.0\n",
            "4  1249  109900.0\n"
          ],
          "name": "stdout"
        }
      ]
    },
    {
      "cell_type": "code",
      "metadata": {
        "id": "bRleHHg4hnqv",
        "colab_type": "code",
        "outputId": "436a2d25-a223-4265-f980-cfcc68393c94",
        "colab": {
          "base_uri": "https://localhost:8080/",
          "height": 50
        }
      },
      "source": [
        "from sklearn.model_selection import train_test_split\n",
        "X_train, X_test, Y_train,Y_test = train_test_split(size_data, price_data, test_size=0.33)\n",
        "# print the length of test and train dataset.\n",
        "print(\"Length of the training data: \", len(X_train))\n",
        "print(\"Length of the testing data: \", len(X_test))"
      ],
      "execution_count": 0,
      "outputs": [
        {
          "output_type": "stream",
          "text": [
            "Length of the training data:  521\n",
            "Length of the testing data:  258\n"
          ],
          "name": "stdout"
        }
      ]
    },
    {
      "cell_type": "code",
      "metadata": {
        "id": "tfB6jps1iEd3",
        "colab_type": "code",
        "colab": {}
      },
      "source": [
        "def normalize(array): \n",
        "    return (array - array.mean()) / array.std()"
      ],
      "execution_count": 0,
      "outputs": []
    },
    {
      "cell_type": "code",
      "metadata": {
        "id": "m3UMpJ98iNj2",
        "colab_type": "code",
        "colab": {}
      },
      "source": [
        "X_train = normalize(X_train)\n",
        "Y_train = normalize(Y_train)\n",
        "\n",
        "X_test = normalize(X_test)\n",
        "Y_test = normalize(Y_test)\n"
      ],
      "execution_count": 0,
      "outputs": []
    },
    {
      "cell_type": "code",
      "metadata": {
        "id": "DHhkBZIdiU6l",
        "colab_type": "code",
        "colab": {}
      },
      "source": [
        "%matplotlib inline\n",
        "import matplotlib.pyplot as plt"
      ],
      "execution_count": 0,
      "outputs": []
    },
    {
      "cell_type": "code",
      "metadata": {
        "id": "hdHmtmCCiZAP",
        "colab_type": "code",
        "outputId": "50dd400d-c7cf-4dcf-c85b-711763abbbbe",
        "colab": {
          "base_uri": "https://localhost:8080/",
          "height": 265
        }
      },
      "source": [
        "plt.scatter(X_train, Y_train, label='Samples data')\n",
        "plt.draw()"
      ],
      "execution_count": 0,
      "outputs": [
        {
          "output_type": "display_data",
          "data": {
            "image/png": "[encoded data removed]",
            "text/plain": [
              "<Figure size 432x288 with 1 Axes>"
            ]
          },
          "metadata": {
            "tags": []
          }
        }
      ]
    },
    {
      "cell_type": "code",
      "metadata": {
        "id": "Qpht9aSYi-U4",
        "colab_type": "code",
        "colab": {}
      },
      "source": [
        "import tensorflow as tf\n",
        "import numpy as np\n"
      ],
      "execution_count": 0,
      "outputs": []
    },
    {
      "cell_type": "code",
      "metadata": {
        "id": "30tVWUJNjFiF",
        "colab_type": "code",
        "colab": {}
      },
      "source": [
        "%tensorflow_version 1.x"
      ],
      "execution_count": 0,
      "outputs": []
    },
    {
      "cell_type": "code",
      "metadata": {
        "id": "Jrrbnbf3i1JA",
        "colab_type": "code",
        "colab": {}
      },
      "source": [
        "def get_model_tensors():\n",
        "  X = tf.placeholder(\"float\")\n",
        "  Y = tf.placeholder(\"float\")\n",
        "  theta1 = tf.Variable(np.random.randn(), name=\"weight\")\n",
        "  theta0 = tf.Variable(np.random.randn(), name=\"bias\")\n",
        "  x_theta1 = tf.multiply(X, theta1)\n",
        "  model = tf.add(x_theta1 , theta0)\n",
        "  return X, Y, theta1, theta0, model"
      ],
      "execution_count": 0,
      "outputs": []
    },
    {
      "cell_type": "code",
      "metadata": {
        "id": "f6qrcqRUkPpp",
        "colab_type": "code",
        "colab": {}
      },
      "source": [
        "def get_cost_optimizer_tensor(Y, model, size, learning_rate):\n",
        "  cost_function = tf.reduce_sum(tf.pow(model - Y, 2))/(2 * size) \n",
        "  gradient_descent = tf.train.GradientDescentOptimizer(learning_rate) \n",
        "  optimizer = gradient_descent.minimize(cost_function)\n",
        "  return optimizer, cost_function"
      ],
      "execution_count": 0,
      "outputs": []
    },
    {
      "cell_type": "code",
      "metadata": {
        "id": "avETsbwXj5fo",
        "colab_type": "code",
        "colab": {}
      },
      "source": [
        "learning_rate = 0.1\n",
        "training_iteration = 200"
      ],
      "execution_count": 0,
      "outputs": []
    },
    {
      "cell_type": "code",
      "metadata": {
        "id": "nnccsJWPkrH5",
        "colab_type": "code",
        "colab": {}
      },
      "source": [
        "X, Y, theta1, theta0, model = get_model_tensors()"
      ],
      "execution_count": 0,
      "outputs": []
    },
    {
      "cell_type": "code",
      "metadata": {
        "id": "Hq3_jYcskupI",
        "colab_type": "code",
        "outputId": "582d68ef-abdf-4ef8-e9e7-68fc8ff9080a",
        "colab": {
          "base_uri": "https://localhost:8080/",
          "height": 87
        }
      },
      "source": [
        "optimizer, cost_function = get_cost_optimizer_tensor(Y, model,len(X_train), learning_rate )\n"
      ],
      "execution_count": 0,
      "outputs": [
        {
          "output_type": "stream",
          "text": [
            "WARNING:tensorflow:From /tensorflow-1.15.2/python3.6/tensorflow_core/python/ops/math_grad.py:1375: where (from tensorflow.python.ops.array_ops) is deprecated and will be removed in a future version.\n",
            "Instructions for updating:\n",
            "Use tf.where in 2.0, which has the same broadcast rule as np.where\n"
          ],
          "name": "stdout"
        }
      ]
    },
    {
      "cell_type": "code",
      "metadata": {
        "id": "X9vkliQ7k05f",
        "colab_type": "code",
        "colab": {}
      },
      "source": [
        "init = tf.global_variables_initializer()\n"
      ],
      "execution_count": 0,
      "outputs": []
    },
    {
      "cell_type": "code",
      "metadata": {
        "id": "lRFThL10lXqy",
        "colab_type": "code",
        "outputId": "f9fc28c6-b286-43a8-9ccb-c1f6361f0033",
        "colab": {
          "base_uri": "https://localhost:8080/",
          "height": 466
        }
      },
      "source": [
        "with tf.Session() as sess:\n",
        "    sess.run(init)\n",
        "    display_step = 20\n",
        "    # Fit all training data\n",
        "    for iteration in range(training_iteration):\n",
        "        # Run the gradient descent optimizer \n",
        "        sess.run(optimizer,  feed_dict={X: X_train, Y: Y_train})\n",
        "        if iteration % display_step == 0:\n",
        "          training_cost = sess.run(cost_function, feed_dict={X: X_train, Y: Y_train})\n",
        "          print(\"Cost function during training:\",'cost=',training_cost, \"a=\", sess.run(theta1), \"b=\", sess.run(theta0))\n",
        "    tuning_cost = sess.run(cost_function, feed_dict={X: X_train, Y: Y_train})\n",
        "\n",
        "    print(\"Tuning completed::\",'cost=',tuning_cost, \"a=\", sess.run(theta1), \"b=\", sess.run(theta0))\n",
        "    testing_cost = sess.run(cost_function, feed_dict={X: X_test, Y: Y_test})\n",
        "\n",
        "    print(\"Testing data cost:\" , testing_cost)\n",
        "    \n",
        "    plt.figure()\n",
        "    plt.plot(X_train, Y_train, 'ro', label='Normalized samples')\n",
        "    plt.plot(X_test, Y_test, 'go', label='Normalized testing samples')\n",
        "    plt.plot(X_train, sess.run(theta1) * X_train + sess.run(theta0), label='Fitted line')\n",
        "    plt.legend()\n",
        "    \n",
        "    plt.show()\n",
        "    sess.close()"
      ],
      "execution_count": 0,
      "outputs": [
        {
          "output_type": "stream",
          "text": [
            "Cost function during training: cost= 0.44770104 a= 1.2293632 b= 0.2836574\n",
            "Cost function during training: cost= 0.264731 a= 0.7555283 b= 0.034486122\n",
            "Cost function during training: cost= 0.2620265 a= 0.69792104 b= 0.0041927067\n",
            "Cost function during training: cost= 0.26198652 a= 0.69091725 b= 0.0005097353\n",
            "Cost function during training: cost= 0.26198593 a= 0.69006586 b= 6.197231e-05\n",
            "Cost function during training: cost= 0.2619859 a= 0.6899622 b= 7.5340304e-06\n",
            "Cost function during training: cost= 0.2619859 a= 0.6899497 b= 9.1549884e-07\n",
            "Cost function during training: cost= 0.2619859 a= 0.6899482 b= 1.0899686e-07\n",
            "Cost function during training: cost= 0.2619859 a= 0.6899482 b= 1.346063e-08\n",
            "Cost function during training: cost= 0.26198587 a= 0.6899482 b= 4.8459e-09\n",
            "Tuning completed:: cost= 0.26198587 a= 0.6899482 b= 2.6223672e-09\n",
            "Testing data cost: 0.10771989\n"
          ],
          "name": "stdout"
        },
        {
          "output_type": "display_data",
          "data": {
            "image/png": "[encoded data removed]",
            "text/plain": [
              "<Figure size 432x288 with 1 Axes>"
            ]
          },
          "metadata": {
            "tags": []
          }
        }
      ]
    },
    {
      "cell_type": "code",
      "metadata": {
        "id": "5JZ6KokjqJqD",
        "colab_type": "code",
        "colab": {}
      },
      "source": [
        ""
      ],
      "execution_count": 0,
      "outputs": []
    }
  ]
}